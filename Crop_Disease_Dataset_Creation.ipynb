{
  "nbformat": 4,
  "nbformat_minor": 0,
  "metadata": {
    "colab": {
      "provenance": []
    },
    "kernelspec": {
      "name": "python3",
      "display_name": "Python 3"
    },
    "language_info": {
      "name": "python"
    }
  },
  "cells": [
    {
      "cell_type": "code",
      "execution_count": 2,
      "metadata": {
        "id": "ItcBGcniu_W8"
      },
      "outputs": [],
      "source": [
        "from google.colab import userdata\n",
        "import os\n",
        "os.environ[\"KAGGLE_KEY\"] = userdata.get('YOUR_API_KEY')\n",
        "os.environ[\"KAGGLE_USERNAME\"] = userdata.get('YOUR_USERNAME')"
      ]
    },
    {
      "cell_type": "code",
      "source": [
        "import os\n",
        "import shutil\n",
        "import zipfile\n",
        "\n",
        "!kaggle datasets download -d badhon7432/paddyleafdiseaseuci"
      ],
      "metadata": {
        "colab": {
          "base_uri": "https://localhost:8080/"
        },
        "id": "nVqU57ty_VxN",
        "outputId": "e6f14260-6cb3-4930-8601-223384337fc5"
      },
      "execution_count": 5,
      "outputs": [
        {
          "output_type": "stream",
          "name": "stdout",
          "text": [
            "Downloading paddyleafdiseaseuci.zip to /content\n",
            " 97% 157M/161M [00:03<00:00, 36.2MB/s]\n",
            "100% 161M/161M [00:03<00:00, 43.0MB/s]\n"
          ]
        }
      ]
    },
    {
      "cell_type": "markdown",
      "source": [
        "Plant_Leaf_disease"
      ],
      "metadata": {
        "id": "qJIvjX58Ein3"
      }
    },
    {
      "cell_type": "code",
      "source": [
        "\n",
        "\n",
        "downloaded_dataset_path = \"paddyleafdiseaseuci.zip\"\n",
        "extracted_dataset_path = \"paddyleafdiseaseuci\"\n",
        "train_folder_path = os.path.join(extracted_dataset_path, \"train\")\n",
        "desired_folders = [\"Bacterial leaf blight\", \"Brown spot\", \"Leaf smut\"]\n",
        "\n",
        "with zipfile.ZipFile(downloaded_dataset_path, 'r') as zip_ref:\n",
        "    zip_ref.extractall(extracted_dataset_path)\n",
        "\n",
        "# Create new dataset directory\n",
        "os.makedirs(\"crop_diseases\", exist_ok=True)\n",
        "\n",
        "# Traverse train folder and copy desired folders to new dataset directory\n",
        "for root, dirs, files in os.walk(train_folder_path):\n",
        "    for folder in dirs:\n",
        "        if folder in desired_folders:\n",
        "            shutil.copytree(os.path.join(root, folder), os.path.join(\"crop_diseases\", folder))\n",
        "\n",
        "print(\"New dataset created successfully!\")\n"
      ],
      "metadata": {
        "colab": {
          "base_uri": "https://localhost:8080/"
        },
        "id": "65C2ig5q7E9V",
        "outputId": "2545cee5-a4df-4c11-e60c-d92894d01af9"
      },
      "execution_count": 6,
      "outputs": [
        {
          "output_type": "stream",
          "name": "stdout",
          "text": [
            "New dataset created successfully!\n"
          ]
        }
      ]
    },
    {
      "cell_type": "code",
      "source": [
        "!kaggle datasets download -d abdallahalidev/plantvillage-dataset"
      ],
      "metadata": {
        "colab": {
          "base_uri": "https://localhost:8080/"
        },
        "id": "2fmwhD3dAWel",
        "outputId": "ac8ac810-d648-4ed0-d6c8-adfe712a8d24"
      },
      "execution_count": 7,
      "outputs": [
        {
          "output_type": "stream",
          "name": "stdout",
          "text": [
            "Downloading plantvillage-dataset.zip to /content\n",
            "100% 2.03G/2.04G [00:27<00:00, 81.1MB/s]\n",
            "100% 2.04G/2.04G [00:27<00:00, 79.5MB/s]\n"
          ]
        }
      ]
    },
    {
      "cell_type": "markdown",
      "source": [
        "Plant_village_dataset"
      ],
      "metadata": {
        "id": "RQadW2B0Em3g"
      }
    },
    {
      "cell_type": "code",
      "source": [
        "import os\n",
        "import shutil\n",
        "import zipfile\n",
        "\n",
        "# Function to copy folders from one directory to another\n",
        "def copy_folders(source_dir, destination_dir, folders):\n",
        "    for folder in folders:\n",
        "        shutil.copytree(os.path.join(source_dir, folder), os.path.join(destination_dir, folder))\n",
        "\n",
        "# Path for the downloaded plantvillage-dataset ZIP file\n",
        "new_downloaded_dataset_path = \"/content/plantvillage-dataset.zip\"\n",
        "\n",
        "# Extracted dataset directory for the new dataset\n",
        "new_extracted_dataset_path = \"/content/plantvillage-dataset/plantvillage dataset/color\"\n",
        "\n",
        "# Desired folders to be copied from the new dataset\n",
        "new_desired_folders = [\n",
        "    \"Corn_(maize)___Cercospora_leaf_spot Gray_leaf_spot\",\n",
        "    \"Corn_(maize)___Common_rust_\",\n",
        "    \"Corn_(maize)___Northern_Leaf_Blight\",\n",
        "    \"Corn_(maize)___healthy\",\n",
        "    \"Grape___Black_rot\",\n",
        "    \"Grape___Esca_(Black_Measles)\",\n",
        "    \"Grape___Leaf_blight_(Isariopsis_Leaf_Spot)\",\n",
        "    \"Grape___healthy\",\n",
        "    \"Potato___Early_blight\",\n",
        "    \"Potato___Late_blight\",\n",
        "    \"Potato___healthy\",\n",
        "    \"Tomato___Bacterial_spot\",\n",
        "    \"Tomato___Early_blight\",\n",
        "    \"Tomato___Late_blight\",\n",
        "    \"Tomato___Leaf_Mold\",\n",
        "    \"Tomato___Septoria_leaf_spot\",\n",
        "    \"Tomato___Target_Spot\",\n",
        "    \"Tomato___Spider_mites Two-spotted_spider_mite\",\n",
        "    \"Tomato___Tomato_Yellow_Leaf_Curl_Virus\",\n",
        "    \"Tomato___Tomato_mosaic_virus\",\n",
        "    \"Tomato___healthy\"\n",
        "]\n",
        "\n",
        "# Append desired folders from the new dataset to crop_diseases directory\n",
        "copy_folders(new_extracted_dataset_path, \"crop_diseases\", new_desired_folders)\n",
        "\n",
        "print(\"Selected folders from the new dataset have been appended to crop_diseases directory successfully!\")\n"
      ],
      "metadata": {
        "colab": {
          "base_uri": "https://localhost:8080/"
        },
        "id": "ryBQTRcyDkTa",
        "outputId": "05561ef4-df8b-4b62-c57d-7e3eea187f86"
      },
      "execution_count": 9,
      "outputs": [
        {
          "output_type": "stream",
          "name": "stdout",
          "text": [
            "Selected folders from the new dataset have been appended to crop_diseases directory successfully!\n"
          ]
        }
      ]
    },
    {
      "cell_type": "markdown",
      "source": [
        "Bangladesh_crop disease"
      ],
      "metadata": {
        "id": "0-F_aRtCEpnD"
      }
    },
    {
      "cell_type": "code",
      "source": [
        "!kaggle datasets download -d nafishamoin/new-bangladeshi-crop-disease"
      ],
      "metadata": {
        "colab": {
          "base_uri": "https://localhost:8080/"
        },
        "id": "PEtbTf7OEzYQ",
        "outputId": "f5bc588e-70b3-4787-9637-49ea870c8181"
      },
      "execution_count": 10,
      "outputs": [
        {
          "output_type": "stream",
          "name": "stdout",
          "text": [
            "Downloading new-bangladeshi-crop-disease.zip to /content\n",
            "100% 2.35G/2.35G [01:16<00:00, 30.5MB/s]\n",
            "100% 2.35G/2.35G [01:16<00:00, 32.8MB/s]\n"
          ]
        }
      ]
    },
    {
      "cell_type": "code",
      "source": [
        "# Path for the downloaded new-bangladeshi-crop-disease ZIP file\n",
        "new_downloaded_dataset_path = \"/content/new-bangladeshi-crop-disease.zip\""
      ],
      "metadata": {
        "id": "u_DvRpeZFL9C"
      },
      "execution_count": 11,
      "outputs": []
    },
    {
      "cell_type": "code",
      "source": [
        "new_extracted_dataset_path = \"/content/new-bangladeshi-crop-disease/BangladeshiCrops/BangladeshiCrops/Crop___Disease/Wheat\""
      ],
      "metadata": {
        "id": "dyaYOdW8FQoP"
      },
      "execution_count": 14,
      "outputs": []
    },
    {
      "cell_type": "code",
      "source": [
        "# Function to copy folders from one directory to another\n",
        "def copy_folders(source_dir, destination_dir, folders):\n",
        "    for folder in folders:\n",
        "        shutil.copytree(os.path.join(source_dir, folder), os.path.join(destination_dir, folder))\n",
        "\n",
        "# Desired folders to be copied from the new dataset\n",
        "new_desired_folders = [\n",
        "    \"Wheat___Brown_Rust\",\n",
        "    \"Wheat___Healthy\",\n",
        "    \"Wheat___Yellow_Rust\",\n",
        "]\n",
        "\n",
        "# Extract the new dataset\n",
        "with zipfile.ZipFile(new_downloaded_dataset_path, 'r') as zip_ref:\n",
        "    zip_ref.extractall(new_extracted_dataset_path)\n",
        "\n",
        "# Append desired folders from the new dataset to crop_diseases directory\n",
        "copy_folders(new_extracted_dataset_path, \"crop_diseases\", new_desired_folders)\n",
        "\n",
        "print(\"Selected folders from the new dataset have been appended to crop_diseases directory successfully!\")\n"
      ],
      "metadata": {
        "id": "PbSO6EdUB-Sq"
      },
      "execution_count": null,
      "outputs": []
    },
    {
      "cell_type": "markdown",
      "source": [
        "20K multi class crop dataset"
      ],
      "metadata": {
        "id": "ntEnpO4s2PR1"
      }
    },
    {
      "cell_type": "code",
      "source": [
        "!kaggle datasets download -d jawadali1045/20k-multi-class-crop-disease-images"
      ],
      "metadata": {
        "colab": {
          "base_uri": "https://localhost:8080/"
        },
        "id": "X75ZhU55HKno",
        "outputId": "e19c9d71-c6eb-4c7b-e089-51e1b563589e"
      },
      "execution_count": 18,
      "outputs": [
        {
          "output_type": "stream",
          "name": "stdout",
          "text": [
            "Downloading 20k-multi-class-crop-disease-images.zip to /content\n",
            "100% 2.34G/2.34G [00:46<00:00, 76.4MB/s]\n",
            "100% 2.34G/2.34G [00:46<00:00, 53.9MB/s]\n"
          ]
        }
      ]
    },
    {
      "cell_type": "code",
      "source": [
        "new_downloaded_dataset_path = \"/content/20k-multi-class-crop-disease-images.zip\""
      ],
      "metadata": {
        "id": "P52fh8JiIlH3"
      },
      "execution_count": 19,
      "outputs": []
    },
    {
      "cell_type": "code",
      "source": [
        "new_extracted_dataset_path = \"/content/20k-multi-class-crop-disease-images/Train/Train\""
      ],
      "metadata": {
        "id": "8kOg07VpIdbG"
      },
      "execution_count": 22,
      "outputs": []
    },
    {
      "cell_type": "code",
      "source": [
        "def copy_folders(source_dir, destination_dir, folders):\n",
        "    for folder in folders:\n",
        "        # Check if the folder already exists in the destination directory\n",
        "        if not os.path.exists(os.path.join(destination_dir, folder)):\n",
        "            shutil.copytree(os.path.join(source_dir, folder), os.path.join(destination_dir, folder))\n",
        "        else:\n",
        "            print(f\"Folder '{folder}' already exists in the destination directory. Skipping...\")\n",
        "\n",
        "# Desired folders to be copied from the new dataset\n",
        "new_desired_folders = [\n",
        "    \"Anthracnose on Cotton\",\n",
        "    \"Becterial Blight in Rice\",\n",
        "    \"Brownspot\",\n",
        "    \"Common_Rust\",\n",
        "    \"Flag Smut\",\n",
        "    \"Gray_Leaf_Spot\",\n",
        "    \"Healthy Maize\",\n",
        "    \"Healthy Wheat\",\n",
        "    \"Healthy cotton\",\n",
        "    \"Leaf Curl\",\n",
        "    \"Leaf smut\",\n",
        "    \"Mosaic sugarcane\",\n",
        "    \"RedRot sugarcane\",\n",
        "    \"RedRust sugarcane\",\n",
        "    \"Rice Blast\",\n",
        "    \"Sugarcane Healthy\",\n",
        "    \"Tungro\",\n",
        "    \"Wheat Brown leaf Rust\",\n",
        "    \"Wheat Stem fly\",\n",
        "    \"Wheat aphid\",\n",
        "    \"Wheat black rust\",\n",
        "    \"Wheat leaf blight\",\n",
        "    \"Wheat powdery mildew\",\n",
        "    \"Wheat scab\",\n",
        "    \"Wheat___Yellow_Rust\",\n",
        "    \"Wilt\"\n",
        "]\n",
        "\n",
        "copy_folders(new_extracted_dataset_path, \"crop_diseases\", new_desired_folders)\n",
        "\n",
        "print(\"Selected folders from the new dataset have been appended to crop_diseases directory successfully!\")\n"
      ],
      "metadata": {
        "colab": {
          "base_uri": "https://localhost:8080/"
        },
        "id": "Tl8MUPsqH_3D",
        "outputId": "b60cb079-5e1d-4073-d18d-a4dc2a6689f5"
      },
      "execution_count": 24,
      "outputs": [
        {
          "output_type": "stream",
          "name": "stdout",
          "text": [
            "Folder 'Anthracnose on Cotton' already exists in the destination directory. Skipping...\n",
            "Folder 'Leaf smut' already exists in the destination directory. Skipping...\n",
            "Folder 'Wheat___Yellow_Rust' already exists in the destination directory. Skipping...\n",
            "Selected folders from the new dataset have been appended to crop_diseases directory successfully!\n"
          ]
        }
      ]
    },
    {
      "cell_type": "markdown",
      "source": [
        "banana disease"
      ],
      "metadata": {
        "id": "sX0eeDJ12XK_"
      }
    },
    {
      "cell_type": "code",
      "source": [
        "!kaggle datasets download -d sujaykapadnis/banana-disease-recognition-dataset"
      ],
      "metadata": {
        "colab": {
          "base_uri": "https://localhost:8080/"
        },
        "id": "CO0NMsB8JVPo",
        "outputId": "00b08d1b-45d7-4957-bb96-5a1d0a8b03f8"
      },
      "execution_count": 25,
      "outputs": [
        {
          "output_type": "stream",
          "name": "stdout",
          "text": [
            "Downloading banana-disease-recognition-dataset.zip to /content\n",
            " 99% 120M/122M [00:03<00:00, 36.1MB/s]\n",
            "100% 122M/122M [00:03<00:00, 40.1MB/s]\n"
          ]
        }
      ]
    },
    {
      "cell_type": "code",
      "source": [
        "new_downloaded_dataset_path = \"/content/banana-disease-recognition-dataset.zip\""
      ],
      "metadata": {
        "id": "57Ugj4fpL3AU"
      },
      "execution_count": 31,
      "outputs": []
    },
    {
      "cell_type": "code",
      "source": [
        "new_extracted_dataset_path = \"/content/banana-disease-recognition-dataset/Banana Disease Recognition Dataset/Original Images/Original Images\""
      ],
      "metadata": {
        "id": "T4g9DeNGLyW3"
      },
      "execution_count": 48,
      "outputs": []
    },
    {
      "cell_type": "code",
      "source": [
        "# import zipfile\n",
        "\n",
        "# # Path to the downloaded zip file\n",
        "# zip_file_path = \"/content/banana-disease-recognition-dataset.zip\"\n",
        "\n",
        "# # Destination directory for extraction\n",
        "# destination_dir = \"/content/banana-disease-recognition-dataset\"\n",
        "\n",
        "# # Extract the zip file\n",
        "# with zipfile.ZipFile(zip_file_path, 'r') as zip_ref:\n",
        "#     zip_ref.extractall(destination_dir)\n"
      ],
      "metadata": {
        "id": "zGU6MNRDOcy9"
      },
      "execution_count": 47,
      "outputs": []
    },
    {
      "cell_type": "code",
      "source": [
        "def copy_folders(source_dir, destination_dir, folders):\n",
        "    for folder in folders:\n",
        "        # Check if the folder already exists in the destination directory\n",
        "        if not os.path.exists(os.path.join(destination_dir, folder)):\n",
        "            shutil.copytree(os.path.join(source_dir, folder), os.path.join(destination_dir, folder))\n",
        "        else:\n",
        "            print(f\"Folder '{folder}' already exists in the destination directory. Skipping...\")\n",
        "\n",
        "# Desired folders to be copied from the new dataset\n",
        "new_desired_folders = [\n",
        "    \"Banana Black Sigatoka Disease\",\n",
        "    \"Banana Bract Mosaic Virus Disease\",\n",
        "    \"Banana Healthy Leaf\",\n",
        "    \"Banana Insect Pest Disease\",\n",
        "    \"Banana Moko Disease\",\n",
        "    \"Banana Panama Disease\",\n",
        "    \"Banana Yellow Sigatoka Disease\",\n",
        "]\n",
        "\n",
        "# Append desired folders from the new dataset to crop_diseases directory\n",
        "copy_folders(new_extracted_dataset_path, \"crop_diseases\", new_desired_folders)\n",
        "\n",
        "print(\"Selected folders from the new dataset have been appended to crop_diseases directory successfully!\")\n"
      ],
      "metadata": {
        "colab": {
          "base_uri": "https://localhost:8080/"
        },
        "id": "_PNu6Mq7MDy6",
        "outputId": "a399f81d-9c12-4bcf-90c4-c3794affaf6e"
      },
      "execution_count": 51,
      "outputs": [
        {
          "output_type": "stream",
          "name": "stdout",
          "text": [
            "Folder 'Banana Black Sigatoka Disease' already exists in the destination directory. Skipping...\n",
            "Folder 'Banana Bract Mosaic Virus Disease' already exists in the destination directory. Skipping...\n",
            "Folder 'Banana Healthy Leaf' already exists in the destination directory. Skipping...\n",
            "Folder 'Banana Insect Pest Disease' already exists in the destination directory. Skipping...\n",
            "Folder 'Banana Moko Disease' already exists in the destination directory. Skipping...\n",
            "Folder 'Banana Panama Disease' already exists in the destination directory. Skipping...\n",
            "Selected folders from the new dataset have been appended to crop_diseases directory successfully!\n"
          ]
        }
      ]
    },
    {
      "cell_type": "code",
      "source": [],
      "metadata": {
        "id": "LH0TVBQqMQdR"
      },
      "execution_count": null,
      "outputs": []
    },
    {
      "cell_type": "code",
      "source": [
        "zip_file_path = '/content/crop_diseases.zip'\n",
        "\n",
        "zip_file_size = os.path.getsize(zip_file_path)\n",
        "def sizeof_fmt(num, suffix='B'):\n",
        "    for unit in ['', 'K', 'M', 'G', 'T', 'P', 'E', 'Z']:\n",
        "        if abs(num) < 1024.0:\n",
        "            return \"%3.1f%s%s\" % (num, unit, suffix)\n",
        "        num /= 1024.0\n",
        "    return \"%.1f%s%s\" % (num, 'Yi', suffix)\n",
        "\n",
        "# Display the size of the zip file\n",
        "print(\"Size of the zip file:\", sizeof_fmt(zip_file_size))"
      ],
      "metadata": {
        "colab": {
          "base_uri": "https://localhost:8080/"
        },
        "id": "pMN0p_LoUHS-",
        "outputId": "82c253b8-7787-4efc-ddcc-6b45297b386a"
      },
      "execution_count": 62,
      "outputs": [
        {
          "output_type": "stream",
          "name": "stdout",
          "text": [
            "Size of the zip file: 2.3GB\n"
          ]
        }
      ]
    }
